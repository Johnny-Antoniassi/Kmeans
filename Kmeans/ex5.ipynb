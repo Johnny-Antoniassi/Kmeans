{
 "cells": [
  {
   "cell_type": "code",
   "execution_count": null,
   "metadata": {},
   "outputs": [],
   "source": [
    "import numpy as np\n",
    "import pandas as pd\n",
    "import matplotlib.pyplot as plt\n",
    "from sklearn.cluster import KMeans"
   ]
  },
  {
   "cell_type": "code",
   "execution_count": null,
   "metadata": {},
   "outputs": [],
   "source": [
    "data = {\n",
    "    'Maquina': np.array([1,2,3,4,5,6,7,8,9,10]),\n",
    "    'Temperatura': np.array([70.2,65.1,75.5,80.3,68.7,72.9,78.6,66.4,73.1,69.5]),\n",
    "    'Vibração': np.array([12.5,8.2,15.6,10.2,11.8,14.3,9.8,8.9,13.7,12.1]),\n",
    "    'Corrente':np.array([4.7,3.9,5.1,4.5,4.2,5.3,4.8,4.0,5.0,4.3]),\n",
    "}"
   ]
  },
  {
   "cell_type": "code",
   "execution_count": null,
   "metadata": {},
   "outputs": [],
   "source": [
    "df = pd.DataFrame(data)"
   ]
  },
  {
   "cell_type": "code",
   "execution_count": null,
   "metadata": {},
   "outputs": [],
   "source": [
    "print(data['Temperatura'])"
   ]
  },
  {
   "cell_type": "code",
   "execution_count": null,
   "metadata": {},
   "outputs": [],
   "source": [
    "kmeans = KMeans(n_clusters=3) #number of clusters\n",
    "kmeans.fit(df)\n",
    "sse = kmeans.inertia_"
   ]
  },
  {
   "cell_type": "code",
   "execution_count": null,
   "metadata": {},
   "outputs": [],
   "source": [
    "print(\"SSE: \", sse)"
   ]
  },
  {
   "cell_type": "code",
   "execution_count": null,
   "metadata": {},
   "outputs": [],
   "source": [
    "labels = kmeans.labels_\n",
    "centroids = kmeans.cluster_centers_"
   ]
  },
  {
   "cell_type": "code",
   "execution_count": null,
   "metadata": {},
   "outputs": [],
   "source": [
    "plt.scatter(data['Maquina'],data['Temperatura'],c=labels)\n",
    "plt.scatter(centroids[:,0],centroids[:,2],marker='x',color='red')\n",
    "plt.title(\"Agrupamento kmeans\")\n",
    "plt.xlabel(\"Maquina\")\n",
    "plt.ylabel(\"Temperatura\")\n",
    "plt.show()\n",
    "fig, ax = plt.subplots(figsize=(10,6))\n",
    "ax.boxplot([data['Temperatura'],data['Vibração'],data['Corrente']],labels=['Temperatura','Vibração','Corrente'])\n",
    "plt.title(\"Agrupamento kmeans\")\n",
    "plt.show()"
   ]
  },
  {
   "cell_type": "code",
   "execution_count": null,
   "metadata": {},
   "outputs": [],
   "source": [
    "df['Grupo']= labels\n",
    "grouped_data = df.groupby('Grupo').mean()\n",
    "print(grouped_data)"
   ]
  }
 ],
 "metadata": {
  "language_info": {
   "name": "python"
  }
 },
 "nbformat": 4,
 "nbformat_minor": 2
}
